{
 "cells": [
  {
   "cell_type": "code",
   "execution_count": 1,
   "metadata": {},
   "outputs": [
    {
     "data": {
      "text/plain": [
       "x0*x1*x2*x3 + x0*x1*x2*x4 + x0*x1*x2*x5 + x0*x1*x2*x6 + x0*x1*x2 + x0*x1*x3*x4 + x0*x1*x3*x6 + x0*x1*x5*x6 + x0*x1*x5 + x0*x2*x3*x5 + x0*x2*x3*x6 + x0*x2*x3 + x0*x2*x4*x5 + x0*x2*x4*x6 + x0*x2*x5*x6 + x0*x2*x5 + x0*x2*x6 + x0*x2 + x0*x3*x4*x6 + x0*x3 + x0*x4*x5 + x0*x5*x6 + x0*x6 + x1*x2*x3*x4 + x1*x2*x3*x5 + x1*x2*x3*x6 + x1*x2*x4*x5 + x1*x2*x4*x6 + x1*x2*x4 + x1*x2*x5*x6 + x1*x2*x5 + x1*x2*x6 + x1*x3*x4*x5 + x1*x3*x4 + x1*x3*x5*x6 + x1*x3*x5 + x1*x6 + x2*x3*x4*x5 + x2*x3*x4*x6 + x2*x3*x4 + x2*x3*x5*x6 + x2*x3*x5 + x2*x4*x5 + x2*x4 + x2*x5*x6 + x2*x6 + x2 + x3*x4*x5*x6 + x3*x4*x5 + x3*x4*x6 + x3*x5*x6 + x3*x5 + x3*x6 + x4 + x5*x6 + x5"
      ]
     },
     "execution_count": 1,
     "metadata": {},
     "output_type": "execute_result"
    }
   ],
   "source": [
    "#Test of functions / not taking S-boxes of SM4 as inputs\n",
    "from sage.crypto.boolean_function import BooleanFunction\n",
    "f = BooleanFunction(\"7969817CC5893BA6AC326E47619F5AD0\")\n",
    "f.algebraic_normal_form()"
   ]
  },
  {
   "cell_type": "code",
   "execution_count": 2,
   "metadata": {},
   "outputs": [
    {
     "data": {
      "text/plain": [
       "x0*x1*x2 + x0*x1*x3 + x0*x1*x5 + x0*x2*x5 + x0*x2*x6 + x0*x2 + x0*x5*x6 + x1*x2*x3 + x1*x2*x5 + x1*x2*x6 + x1*x3*x4 + x1*x3*x5 + x1*x3 + x2*x3*x6 + x2*x3 + x2*x4*x6 + x2*x4 + x2*x6 + x2 + x3*x4*x6 + x3*x4 + x3*x5*x6 + x3*x5 + x3*x6 + x3 + x4*x5*x6 + x4*x5 + x4*x6 + x4 + x5*x6 + x5 + x6 + 1"
      ]
     },
     "execution_count": 2,
     "metadata": {},
     "output_type": "execute_result"
    }
   ],
   "source": [
    "g = BooleanFunction( f.annihilator(3) )\n",
    "g.algebraic_normal_form()"
   ]
  },
  {
   "cell_type": "code",
   "execution_count": 3,
   "metadata": {},
   "outputs": [
    {
     "data": {
      "text/plain": [
       "{0}"
      ]
     },
     "execution_count": 3,
     "metadata": {},
     "output_type": "execute_result"
    }
   ],
   "source": [
    "set([ fi*g(i) for i,fi in enumerate(f) ])"
   ]
  },
  {
   "cell_type": "code",
   "execution_count": 4,
   "metadata": {},
   "outputs": [
    {
     "data": {
      "text/plain": [
       "True"
      ]
     },
     "execution_count": 4,
     "metadata": {},
     "output_type": "execute_result"
    }
   ],
   "source": [
    "f.annihilator(1) is None"
   ]
  },
  {
   "cell_type": "code",
   "execution_count": 5,
   "metadata": {},
   "outputs": [
    {
     "data": {
      "text/plain": [
       "True"
      ]
     },
     "execution_count": 5,
     "metadata": {},
     "output_type": "execute_result"
    }
   ],
   "source": [
    "f.annihilator(2) is None"
   ]
  },
  {
   "cell_type": "code",
   "execution_count": 6,
   "metadata": {},
   "outputs": [
    {
     "data": {
      "text/plain": [
       "False"
      ]
     },
     "execution_count": 6,
     "metadata": {},
     "output_type": "execute_result"
    }
   ],
   "source": [
    "f.annihilator(3) is None"
   ]
  },
  {
   "cell_type": "code",
   "execution_count": 29,
   "metadata": {},
   "outputs": [],
   "source": [
    "g = BooleanFunction( f.annihilator(3) )"
   ]
  },
  {
   "cell_type": "code",
   "execution_count": 30,
   "metadata": {},
   "outputs": [
    {
     "data": {
      "text/plain": [
       "x0*x1*x2 + x0*x1*x3 + x0*x1*x5 + x0*x2*x5 + x0*x2*x6 + x0*x2 + x0*x5*x6 + x1*x2*x3 + x1*x2*x5 + x1*x2*x6 + x1*x3*x4 + x1*x3*x5 + x1*x3 + x2*x3*x6 + x2*x3 + x2*x4*x6 + x2*x4 + x2*x6 + x2 + x3*x4*x6 + x3*x4 + x3*x5*x6 + x3*x5 + x3*x6 + x3 + x4*x5*x6 + x4*x5 + x4*x6 + x4 + x5*x6 + x5 + x6 + 1"
      ]
     },
     "execution_count": 30,
     "metadata": {},
     "output_type": "execute_result"
    }
   ],
   "source": [
    "g.algebraic_normal_form()"
   ]
  },
  {
   "cell_type": "code",
   "execution_count": 13,
   "metadata": {},
   "outputs": [],
   "source": [
    "#taking S-boxes of SM4 as inputs\n",
    "#the 4 S-boxes are the same so we only focus on the first one\n",
    "#S1 is the first bit of outputs\n",
    "#import the truth table of S1 from the NL file\n",
    "S1_truth_table = 0b1111110101010100001001011000010110011110000011101101101111110101001110011000110100110011110000100000001100000001100011000001111111110101111110011101100011001111011010101001000011001110010000001011111001000001010111010010111110100100011010110101010001001100"
   ]
  },
  {
   "cell_type": "code",
   "execution_count": 14,
   "metadata": {},
   "outputs": [
    {
     "data": {
      "text/plain": [
       "'fd5425859e0edbf5398d33c203018c1ff5f9d8cf6a90ce40be415d2fa46b544c'"
      ]
     },
     "execution_count": 14,
     "metadata": {},
     "output_type": "execute_result"
    }
   ],
   "source": [
    "#converted to hex\n",
    "S1_truth_table_hex = hex(S1_truth_table)\n",
    "S1_truth_table_hex"
   ]
  },
  {
   "cell_type": "code",
   "execution_count": 15,
   "metadata": {},
   "outputs": [
    {
     "data": {
      "text/plain": [
       "Boolean function with 8 variables"
      ]
     },
     "execution_count": 15,
     "metadata": {},
     "output_type": "execute_result"
    }
   ],
   "source": [
    "#Define S1(x7,x6,x5,x4,x3,x2,x1,x0) as a BooleanFunction based on its truth table\n",
    "from sage.crypto.boolean_function import BooleanFunction\n",
    "S1 = BooleanFunction(S1_truth_table_hex)\n",
    "S1"
   ]
  },
  {
   "cell_type": "code",
   "execution_count": 16,
   "metadata": {},
   "outputs": [
    {
     "data": {
      "text/plain": [
       "x0*x1*x2*x3*x4*x6*x7 + x0*x1*x2*x3*x4*x7 + x0*x1*x2*x3*x5*x6*x7 + x0*x1*x2*x3*x5*x7 + x0*x1*x2*x4*x5 + x0*x1*x2*x4*x6 + x0*x1*x2*x5*x6 + x0*x1*x2*x6*x7 + x0*x1*x2 + x0*x1*x3*x4*x5*x7 + x0*x1*x3*x4 + x0*x1*x3*x5*x7 + x0*x1*x3*x6*x7 + x0*x1*x3*x7 + x0*x1*x3 + x0*x1*x4*x5*x6*x7 + x0*x1*x4*x5*x7 + x0*x1*x4*x6*x7 + x0*x1*x4*x6 + x0*x1*x4 + x0*x1*x5*x6*x7 + x0*x1*x5*x7 + x0*x2*x3*x4*x5*x6 + x0*x2*x3*x4*x5*x7 + x0*x2*x3*x4*x6 + x0*x2*x3*x4*x7 + x0*x2*x3*x4 + x0*x2*x3*x5*x6*x7 + x0*x2*x3*x6*x7 + x0*x2*x3 + x0*x2*x4*x5*x6*x7 + x0*x2*x4*x5*x6 + x0*x2*x4*x5*x7 + x0*x2*x4*x5 + x0*x2*x4*x7 + x0*x2*x4 + x0*x2*x5*x6*x7 + x0*x2*x5*x6 + x0*x2*x5*x7 + x0*x2*x5 + x0*x2*x7 + x0*x3*x4*x5*x6*x7 + x0*x3*x4*x5*x6 + x0*x3*x4*x5*x7 + x0*x3*x4*x5 + x0*x3*x4*x7 + x0*x3*x5 + x0*x3*x6 + x0*x4*x5 + x0*x4*x6*x7 + x0*x4*x7 + x0*x5*x6*x7 + x0*x5*x7 + x0*x6*x7 + x1*x2*x3*x4*x5*x6*x7 + x1*x2*x3*x4*x5*x6 + x1*x2*x3*x4*x5*x7 + x1*x2*x3*x4*x6*x7 + x1*x2*x3*x4*x6 + x1*x2*x3*x5*x6*x7 + x1*x2*x3*x5*x6 + x1*x2*x3*x5 + x1*x2*x3*x6*x7 + x1*x2*x3*x7 + x1*x2*x3 + x1*x2*x4*x5*x6*x7 + x1*x2*x4*x5*x7 + x1*x2*x4*x6*x7 + x1*x2*x6 + x1*x2*x7 + x1*x3*x4*x5*x6*x7 + x1*x3*x4*x5*x7 + x1*x3*x4*x6*x7 + x1*x3*x4*x6 + x1*x3*x4*x7 + x1*x3*x5*x6 + x1*x3*x6*x7 + x1*x3*x6 + x1*x3*x7 + x1*x4*x5*x6*x7 + x1*x4*x5 + x1*x4*x7 + x1*x5*x6*x7 + x1*x5*x6 + x1*x5*x7 + x1*x5 + x1*x6*x7 + x1*x6 + x1*x7 + x1 + x2*x3*x4*x5*x6*x7 + x2*x3*x4*x5 + x2*x3*x4*x6 + x2*x3*x6*x7 + x2*x3*x6 + x2*x3*x7 + x2*x3 + x2*x4*x5*x6*x7 + x2*x4*x5*x6 + x2*x4*x5*x7 + x2*x4*x5 + x2*x4*x6*x7 + x2*x4 + x2*x5*x6*x7 + x2*x5*x7 + x2*x5 + x3*x4*x5*x6 + x3*x4*x6 + x3*x4 + x3*x5*x6*x7 + x3*x5*x6 + x3*x6*x7 + x3*x7 + x4*x5*x6 + x4*x5 + x4*x6 + x4*x7 + x4 + x5*x6*x7 + x5 + x7"
      ]
     },
     "execution_count": 16,
     "metadata": {},
     "output_type": "execute_result"
    }
   ],
   "source": [
    "S1.algebraic_normal_form()"
   ]
  },
  {
   "cell_type": "code",
   "execution_count": 17,
   "metadata": {},
   "outputs": [
    {
     "data": {
      "text/plain": [
       "True"
      ]
     },
     "execution_count": 17,
     "metadata": {},
     "output_type": "execute_result"
    }
   ],
   "source": [
    "S1.annihilator(1) is None"
   ]
  },
  {
   "cell_type": "code",
   "execution_count": 18,
   "metadata": {},
   "outputs": [
    {
     "data": {
      "text/plain": [
       "True"
      ]
     },
     "execution_count": 18,
     "metadata": {},
     "output_type": "execute_result"
    }
   ],
   "source": [
    "S1.annihilator(2) is None"
   ]
  },
  {
   "cell_type": "code",
   "execution_count": 19,
   "metadata": {},
   "outputs": [
    {
     "data": {
      "text/plain": [
       "True"
      ]
     },
     "execution_count": 19,
     "metadata": {},
     "output_type": "execute_result"
    }
   ],
   "source": [
    "S1.annihilator(3) is None"
   ]
  },
  {
   "cell_type": "code",
   "execution_count": 20,
   "metadata": {},
   "outputs": [
    {
     "data": {
      "text/plain": [
       "False"
      ]
     },
     "execution_count": 20,
     "metadata": {},
     "output_type": "execute_result"
    }
   ],
   "source": [
    "#Degree 4\n",
    "S1.annihilator(4) is None"
   ]
  },
  {
   "cell_type": "code",
   "execution_count": 22,
   "metadata": {},
   "outputs": [],
   "source": [
    "S1_anni = BooleanFunction (S1.annihilator(4))"
   ]
  },
  {
   "cell_type": "code",
   "execution_count": 23,
   "metadata": {},
   "outputs": [
    {
     "data": {
      "text/plain": [
       "Boolean function with 8 variables"
      ]
     },
     "execution_count": 23,
     "metadata": {},
     "output_type": "execute_result"
    }
   ],
   "source": [
    "S1_anni"
   ]
  },
  {
   "cell_type": "code",
   "execution_count": 24,
   "metadata": {},
   "outputs": [
    {
     "data": {
      "text/plain": [
       "x0*x1*x2*x3 + x0*x1*x2*x6 + x0*x1*x2*x7 + x0*x1*x3*x6 + x0*x1*x4 + x0*x1*x5*x7 + x0*x2*x3*x5 + x0*x2*x5*x6 + x0*x2*x5*x7 + x0*x3*x4*x5 + x0*x3*x4*x6 + x0*x3*x5*x7 + x0*x3*x6*x7 + x0*x3*x6 + x0*x4*x5*x6 + x0*x4*x5*x7 + x0*x4*x6*x7 + x0*x5*x7 + x1*x2*x3*x5 + x1*x2*x3 + x1*x2*x4*x7 + x1*x2*x4 + x1*x2*x5*x6 + x1*x2*x5*x7 + x1*x3*x4*x7 + x1*x3*x4 + x1*x3*x5*x6 + x1*x3*x6*x7 + x1*x4*x5*x7 + x1*x4*x7 + x1*x5*x7 + x1*x5 + x1*x7 + x1 + x2*x3*x4*x5 + x2*x3*x4*x7 + x2*x3*x4 + x2*x3*x5 + x2*x3*x6*x7 + x2*x3 + x2*x4*x5*x7 + x2*x4*x5 + x2*x4*x6*x7 + x2*x4*x7 + x2*x5*x6*x7 + x2*x5*x6 + x3*x4*x5 + x3*x4*x6*x7 + x3*x5*x6 + x3*x5*x7 + x4*x5 + x4*x6*x7 + x4*x7 + x4 + x5*x6*x7 + x5 + x7 + 1"
      ]
     },
     "execution_count": 24,
     "metadata": {},
     "output_type": "execute_result"
    }
   ],
   "source": [
    "S1_anni.algebraic_normal_form()"
   ]
  },
  {
   "cell_type": "code",
   "execution_count": 25,
   "metadata": {},
   "outputs": [
    {
     "data": {
      "text/plain": [
       "{0}"
      ]
     },
     "execution_count": 25,
     "metadata": {},
     "output_type": "execute_result"
    }
   ],
   "source": [
    "#Verify that whatever the status of (x7,...,x0) S1*S1.annihilator == 0\n",
    "set([ S1i*S1_anni(i) for i,S1i in enumerate(S1) ])"
   ]
  },
  {
   "cell_type": "code",
   "execution_count": 16,
   "metadata": {},
   "outputs": [],
   "source": [
    "#Encapsulated in Function\n",
    "from sage.repl.ipython_kernel.kernel import SageKernel\n",
    "from sage.crypto.boolean_function import BooleanFunction\n",
    "def annihilator(truth_table): #taking the truth table of the boolean function as inputs\n",
    "    truth_table_hex = truth_table.hex()\n",
    "    F = BooleanFunction(truth_table_hex)\n",
    "    for i in range (1,9):\n",
    "        if not (F.annihilator(i) is None):\n",
    "            return BooleanFunction(F.annihilator(i)),i #return the annihilator and the degree\n",
    "    return False"
   ]
  },
  {
   "cell_type": "code",
   "execution_count": 17,
   "metadata": {},
   "outputs": [],
   "source": [
    "S1_truth_table = 0b1111110101010100001001011000010110011110000011101101101111110101001110011000110100110011110000100000001100000001100011000001111111110101111110011101100011001111011010101001000011001110010000001011111001000001010111010010111110100100011010110101010001001100\n",
    "S1_anni,k = annihilator(S1_truth_table)"
   ]
  },
  {
   "cell_type": "code",
   "execution_count": 18,
   "metadata": {},
   "outputs": [
    {
     "data": {
      "text/plain": [
       "4"
      ]
     },
     "execution_count": 18,
     "metadata": {},
     "output_type": "execute_result"
    }
   ],
   "source": [
    "k"
   ]
  },
  {
   "cell_type": "code",
   "execution_count": 19,
   "metadata": {},
   "outputs": [
    {
     "data": {
      "text/plain": [
       "Boolean function with 8 variables"
      ]
     },
     "execution_count": 19,
     "metadata": {},
     "output_type": "execute_result"
    }
   ],
   "source": [
    "S1_anni"
   ]
  },
  {
   "cell_type": "code",
   "execution_count": 20,
   "metadata": {},
   "outputs": [
    {
     "data": {
      "text/plain": [
       "x0*x1*x2*x3 + x0*x1*x2*x6 + x0*x1*x2*x7 + x0*x1*x3*x6 + x0*x1*x4 + x0*x1*x5*x7 + x0*x2*x3*x5 + x0*x2*x5*x6 + x0*x2*x5*x7 + x0*x3*x4*x5 + x0*x3*x4*x6 + x0*x3*x5*x7 + x0*x3*x6*x7 + x0*x3*x6 + x0*x4*x5*x6 + x0*x4*x5*x7 + x0*x4*x6*x7 + x0*x5*x7 + x1*x2*x3*x5 + x1*x2*x3 + x1*x2*x4*x7 + x1*x2*x4 + x1*x2*x5*x6 + x1*x2*x5*x7 + x1*x3*x4*x7 + x1*x3*x4 + x1*x3*x5*x6 + x1*x3*x6*x7 + x1*x4*x5*x7 + x1*x4*x7 + x1*x5*x7 + x1*x5 + x1*x7 + x1 + x2*x3*x4*x5 + x2*x3*x4*x7 + x2*x3*x4 + x2*x3*x5 + x2*x3*x6*x7 + x2*x3 + x2*x4*x5*x7 + x2*x4*x5 + x2*x4*x6*x7 + x2*x4*x7 + x2*x5*x6*x7 + x2*x5*x6 + x3*x4*x5 + x3*x4*x6*x7 + x3*x5*x6 + x3*x5*x7 + x4*x5 + x4*x6*x7 + x4*x7 + x4 + x5*x6*x7 + x5 + x7 + 1"
      ]
     },
     "execution_count": 20,
     "metadata": {},
     "output_type": "execute_result"
    }
   ],
   "source": [
    "S1_anni.algebraic_normal_form()"
   ]
  },
  {
   "cell_type": "code",
   "execution_count": 21,
   "metadata": {},
   "outputs": [],
   "source": [
    "T1_truth_table = 0b1011110000010100010100010100100001110101010111011000101001011000100111000100101011001110110111000001111000100010101101011001011010011100011111001010000100001001011001111000011111011100011111110000010101110011010001100110010001010011101011100111011011101101\n",
    "U1_truth_table = 0b0011011101001110110111001001000000010101100010111101001000011011001111010010100111011100110010010100100111110110000000100101100011000011111011011101010010111011011101010111000100100101011111000010101100000000001010111100111101000011111001000111100111010010\n",
    "V1_truth_table = 0b1101001111100100001101000010000110111011110000000110000101111010000111110111000000011010100011111001011000110010100111010100000101010011011010100010111101111010110000000000010011101100010100110101111111101111001000110111101100100111011000001110110010111010\n",
    "W1_truth_table = 0b0011101000001110101011001000100110000111001011100011111001010110000100010111001111000011111100101011010000110010000010001000001111100010000110000110101010000100100100100101101101001111011011101110111101101011100101111000100011011001010101001011111011110111\n",
    "X1_truth_table = 0b1001101111100011010101100101011010010100010011101010000101101111111100100010111000000100001001111111000010100001101110101101010101000101010100100111010110001100110101000000101110111111010011001010011100101000000011011100011000101111100011110011011001111000\n",
    "Y1_truth_table = 0b1001000111010100111111011011011001000101101101010100000001010111111011111000101001010011011101001011100101010001001111110111000111110100111100000100101001100001011111100011011101101011111100100111100100001010100000100001000000110111000001100000100001111100\n",
    "Z1_truth_table = 0b0010011100000101110000010010100100001100101111000101100101001110111011101101011001101001011100110000101010011101000111100001000001000101110011110010100111001011100000000111110111110101110010111110110111011000011011111000010011100010111110000010001010101110\n",
    "T1_anni,k_T = annihilator(T1_truth_table)\n",
    "U1_anni,k_U = annihilator(U1_truth_table)\n",
    "V1_anni,k_V = annihilator(V1_truth_table)\n",
    "W1_anni,k_W = annihilator(W1_truth_table)\n",
    "X1_anni,k_X = annihilator(X1_truth_table)\n",
    "Y1_anni,k_Y = annihilator(Y1_truth_table)\n",
    "Z1_anni,k_Z = annihilator(Z1_truth_table)"
   ]
  },
  {
   "cell_type": "code",
   "execution_count": 22,
   "metadata": {},
   "outputs": [
    {
     "data": {
      "text/plain": [
       "(4, 4, 4, 4, 4, 4, 4)"
      ]
     },
     "execution_count": 22,
     "metadata": {},
     "output_type": "execute_result"
    }
   ],
   "source": [
    "k_T,k_U,k_V,k_W,k_X,k_Y,k_Z #All bits of ouputs of S-boxes have degree-4 annihilator"
   ]
  },
  {
   "cell_type": "code",
   "execution_count": null,
   "metadata": {},
   "outputs": [],
   "source": []
  },
  {
   "cell_type": "code",
   "execution_count": null,
   "metadata": {},
   "outputs": [],
   "source": []
  }
 ],
 "metadata": {
  "kernelspec": {
   "display_name": "SageMath 9.0",
   "language": "sage",
   "name": "sagemath"
  },
  "language_info": {
   "codemirror_mode": {
    "name": "ipython",
    "version": 2
   },
   "file_extension": ".py",
   "mimetype": "text/x-python",
   "name": "python",
   "nbconvert_exporter": "python",
   "pygments_lexer": "ipython2",
   "version": "2.7.15"
  }
 },
 "nbformat": 4,
 "nbformat_minor": 2
}
